{
 "cells": [
  {
   "cell_type": "code",
   "execution_count": 1,
   "metadata": {},
   "outputs": [],
   "source": [
    "%load_ext autoreload\n",
    "%autoreload 2\n"
   ]
  },
  {
   "cell_type": "code",
   "execution_count": 2,
   "metadata": {},
   "outputs": [],
   "source": [
    "from production.SDGsClassifier import SDGsClassifier"
   ]
  },
  {
   "cell_type": "code",
   "execution_count": 3,
   "metadata": {},
   "outputs": [],
   "source": [
    "text = 'Conflict of Laws (LAWS0034) \\n Knowledge of the Conflict of Laws (also known as Private International Law) is essential for any lawyer who aspires to work in any area of practice that transcends national frontiers, whether as a specialist in dispute resolution or in advisory work. London is one of the leading centres for international commercial dispute resolution, and most of the commercial disputes heard in London involve foreign parties, so Conflict of Laws rules are particularly central to the work of the English commercial courts. It is a fascinating area of the law, and one of enormous practical importance as legal relationships and disputes increasingly cross borders, but also one of the most intellectually demanding.\\nYou will deal principally with three separate questions which may arise in cross-border civil and commercial litigation:\\njurisdiction, the question of which court may hear a dispute;\\napplicable law, the question of which law or laws a court will apply to resolve the dispute;\\nthe recognition and enforcement of foreign judgments.\\nThe focus of this module is on the rules and principles which apply to resolve these questions as they arise in civil and commercial disputes with an international element before the English courts. You will also examine the anti-suit injunction, which is one of the key orders which the English courts may make to protect their jurisdiction.\\nThe following are some examples of Conflict of Laws problems that are drawn from a selection of the leading cases that you will cover in this module:\\nCan workers suffering from exposure to asbestos in a mine in South Africa bring their personal injury claims before an English court against an English company that held shares in the South African company that operated the mines?\\nCan an English bank that is facing anti-trust proceedings in the United States obtain an injunction from an English court to restrain the party bringing the proceedings in circumstances where the bank never had a corporate presence in the United States and the transactions at the centre of the anti-trust proceedings were executed in England and governed by English law?\\nA Maltese resident suffers personal injuries in a motor accident in Malta. The accident was caused by the negligence of an English resident on vacation in Malta. Under Maltese law, an accident victim cannot claim damages for pain and suffering, whereas under English law a victim can. The Maltese resident sues the English resident in an English court. Can the Maltese resident claim damages for pain and suffering?\\nFollowing the Iraqi invasion of Kuwait, civil aircraft belonging to Kuwait Airways were seized and removed to Iraq. Iraqi legislation was then passed to transfer the aircraft to Iraqi Airways. Kuwait Airways brings proceedings against Iraqi Airways before an English court for wrongful interference. In determining the owner of the aircraft, should the English court give effect to the Iraqi legislation insofar as the aircraft was situated in Iraq when the legislation was enacted?'\n"
   ]
  },
  {
   "cell_type": "code",
   "execution_count": 11,
   "metadata": {},
   "outputs": [],
   "source": [
    "text = 'he science is clear: our climate is heating rapidly. The average global temperatures have increased by 1.2 degrees Celsius since 1880, particularly in the late 20th century. The concentration of atmospheric CO2, the GHG that contributes more than 2/3 to global warming, is at its highest level ever. The Intergovernmental Panel on Climate Change (IPCC) steadily points out that human activities have warmed the atmosphere, ocean and land, producing widespread and rapid changes in the atmosphere, ocean, cryosphere and biosphere. Due to these changes in climate, the number of weather, climate and water-related disasters has increased by a factor of five over the past 50 years, causing over 2 million deaths and US$3.64 trillion in losses. According to IPCC, warming beyond 1.5 degrees could have irreversible and irreparable consequences. However, effective and equitable adaptation and mitigation actions can significantly reduce vulnerability and contribute to climate resilience. To limit global warming to well below 2, preferably 1.5 degrees Celsius, compared to pre-industrial levels, countries came together to hold themselves accountable under the Paris Agreement. The agreement is a milestone of international cooperation to tackle climate change – first legally binding document in the history of climate action.'"
   ]
  },
  {
   "cell_type": "code",
   "execution_count": 5,
   "metadata": {},
   "outputs": [
    {
     "name": "stderr",
     "output_type": "stream",
     "text": [
      "A matching Triton is not available, some optimizations will not be enabled.\n",
      "Error caught was: No module named 'triton'\n"
     ]
    }
   ],
   "source": [
    "classifier = SDGsClassifier(path='production/weights/Bert-Multilabel/')"
   ]
  },
  {
   "cell_type": "code",
   "execution_count": 12,
   "metadata": {},
   "outputs": [],
   "source": [
    "prediction = classifier.classify_text(text)"
   ]
  },
  {
   "cell_type": "code",
   "execution_count": 13,
   "metadata": {},
   "outputs": [
    {
     "data": {
      "text/plain": [
       "[{'label': 'Climate Action', 'score': 0.9757289290428162},\n",
       " {'label': 'Life Below Water', 'score': 0.5089443325996399},\n",
       " {'label': 'Good Health and Well-Being', 'score': 0.3613279461860657},\n",
       " {'label': 'Clean Water and Sanitation', 'score': 0.20443609356880188},\n",
       " {'label': 'Sustainable Cites and Communities', 'score': 0.20370040833950043},\n",
       " {'label': 'Responsible Consumption and Production',\n",
       "  'score': 0.13675527274608612},\n",
       " {'label': 'Life on Land', 'score': 0.09882646799087524},\n",
       " {'label': 'Industry, Innovation, and Infrastructure',\n",
       "  'score': 0.035684987902641296},\n",
       " {'label': 'Affordable and Clean Energy', 'score': 0.030688386410474777},\n",
       " {'label': 'Gender Equality', 'score': 0.030193930491805077},\n",
       " {'label': 'Reduced Inequalities', 'score': 0.025257868692278862},\n",
       " {'label': 'Zero Hunger', 'score': 0.02298611029982567},\n",
       " {'label': 'Peace, Justice, and Strong Institutions',\n",
       "  'score': 0.022817185148596764},\n",
       " {'label': 'Quality Education', 'score': 0.019961543381214142},\n",
       " {'label': 'Decent Work and Economic Growth', 'score': 0.017329368740320206},\n",
       " {'label': 'No Poverty', 'score': 0.008663023822009563}]"
      ]
     },
     "execution_count": 13,
     "metadata": {},
     "output_type": "execute_result"
    }
   ],
   "source": [
    "prediction"
   ]
  }
 ],
 "metadata": {
  "kernelspec": {
   "display_name": "text2sdg-env",
   "language": "python",
   "name": "python3"
  },
  "language_info": {
   "codemirror_mode": {
    "name": "ipython",
    "version": 3
   },
   "file_extension": ".py",
   "mimetype": "text/x-python",
   "name": "python",
   "nbconvert_exporter": "python",
   "pygments_lexer": "ipython3",
   "version": "3.11.3"
  }
 },
 "nbformat": 4,
 "nbformat_minor": 2
}
