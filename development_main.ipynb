{
 "cells": [
  {
   "cell_type": "code",
   "execution_count": 1,
   "metadata": {},
   "outputs": [],
   "source": [
    "%load_ext autoreload\n",
    "%autoreload 2"
   ]
  },
  {
   "cell_type": "code",
   "execution_count": 2,
   "metadata": {},
   "outputs": [],
   "source": [
    "import json\n",
    "from development.datasets.osdg_dataset import load_osdg_data\n",
    "from development.datasets.uclmodules_dataset import load_uclmodules_data\n",
    "from development.datasets.videscription_dataset import load_videscription_data\n",
    "from development.train_model import fine_tune_transformer\n",
    "from development.models.Bert import Bert\n",
    "from development.models.RoBERTa import RoBERTa\n",
    "from development.models.ALBERT import ALBERT\n",
    "from development.preprocessing import remove_stop_words\n",
    "from development.utils import parse_label"
   ]
  },
  {
   "cell_type": "code",
   "execution_count": 3,
   "metadata": {},
   "outputs": [],
   "source": [
    "with open('config.json', 'r') as file:\n",
    "    CONFIG = json.load(file)\n",
    "    dev_config = CONFIG['development']\n"
   ]
  },
  {
   "cell_type": "code",
   "execution_count": 4,
   "metadata": {},
   "outputs": [],
   "source": [
    "osdg_data = load_osdg_data(dev_config['osdg_data_path'], training=True, filter_agreement=False)"
   ]
  },
  {
   "cell_type": "code",
   "execution_count": 11,
   "metadata": {},
   "outputs": [],
   "source": [
    "ucl_data = load_uclmodules_data(dev_config['uclmodules_data_path'])"
   ]
  },
  {
   "cell_type": "code",
   "execution_count": 5,
   "metadata": {},
   "outputs": [],
   "source": [
    "videscription_data = load_videscription_data(\n",
    "    dev_config['videscription_data_path']\n",
    ")"
   ]
  },
  {
   "cell_type": "code",
   "execution_count": null,
   "metadata": {},
   "outputs": [],
   "source": [
    "bert = Bert()"
   ]
  },
  {
   "cell_type": "code",
   "execution_count": null,
   "metadata": {},
   "outputs": [],
   "source": [
    "result = fine_tune_transformer(\n",
    "    bert.model,\n",
    "    bert.tokenizer,\n",
    "    bert.tokenizer_args,\n",
    "    data=osdg_data,\n",
    "    dev_config=dev_config\n",
    ")"
   ]
  },
  {
   "cell_type": "code",
   "execution_count": 82,
   "metadata": {},
   "outputs": [],
   "source": [
    "bert = Bert('./development/weights/Bert/checkpoint-3000/')"
   ]
  },
  {
   "cell_type": "code",
   "execution_count": 86,
   "metadata": {},
   "outputs": [
    {
     "data": {
      "text/plain": [
       "'Life Below Water'"
      ]
     },
     "execution_count": 86,
     "metadata": {},
     "output_type": "execute_result"
    }
   ],
   "source": [
    "prediction = bert.predict_long_text(long_text)\n",
    "parse_label(prediction)"
   ]
  },
  {
   "cell_type": "code",
   "execution_count": null,
   "metadata": {},
   "outputs": [],
   "source": [
    "cls_report = bert.evaluate(osdg_data['train'])\n",
    "print(cls_report)"
   ]
  },
  {
   "cell_type": "code",
   "execution_count": 9,
   "metadata": {},
   "outputs": [
    {
     "name": "stderr",
     "output_type": "stream",
     "text": [
      "A matching Triton is not available, some optimizations will not be enabled.\n",
      "Error caught was: No module named 'triton'\n"
     ]
    },
    {
     "name": "stdout",
     "output_type": "stream",
     "text": [
      "              precision    recall  f1-score   support\n",
      "\n",
      "           0       0.87      0.88      0.87       410\n",
      "           1       0.86      0.93      0.89       368\n",
      "           2       0.92      0.97      0.95       403\n",
      "           3       0.92      0.94      0.93       561\n",
      "           4       0.95      0.93      0.94       650\n",
      "           5       0.90      0.93      0.92       422\n",
      "           6       0.91      0.91      0.91       457\n",
      "           7       0.75      0.73      0.74       227\n",
      "           8       0.88      0.83      0.85       316\n",
      "           9       0.84      0.72      0.78       305\n",
      "          10       0.91      0.91      0.91       342\n",
      "          11       0.90      0.89      0.89       166\n",
      "          12       0.89      0.93      0.91       316\n",
      "          13       0.93      0.92      0.93       171\n",
      "          14       0.92      0.88      0.90       322\n",
      "          15       0.99      0.99      0.99       817\n",
      "\n",
      "    accuracy                           0.91      6253\n",
      "   macro avg       0.90      0.89      0.89      6253\n",
      "weighted avg       0.91      0.91      0.91      6253\n",
      "\n"
     ]
    }
   ],
   "source": [
    "cls_report = bert.evaluate(osdg_data['valid'])\n",
    "print(cls_report)"
   ]
  },
  {
   "cell_type": "code",
   "execution_count": null,
   "metadata": {},
   "outputs": [],
   "source": [
    "cls_report = bert.evaluate(osdg_data['test'])\n",
    "print(cls_report)"
   ]
  },
  {
   "cell_type": "code",
   "execution_count": 11,
   "metadata": {},
   "outputs": [],
   "source": [
    "from development.models.RobertaNER import RobertaNER"
   ]
  },
  {
   "cell_type": "code",
   "execution_count": 21,
   "metadata": {},
   "outputs": [],
   "source": [
    "ner_model = RobertaNER()"
   ]
  },
  {
   "cell_type": "code",
   "execution_count": 14,
   "metadata": {},
   "outputs": [
    {
     "data": {
      "text/plain": [
       "Projects, initiatives and funding targeting women have mushroomed, interest in and momentum for gender issues seem to be at their highest. Low human development, inadequate skills and capacities, unequal access to resources, opportunities, knowledge and support, and continuing marginalisation or discrimination in collective decision making at different levels, are still widespread. The threat of violence and the lack of control of one's own time and efforts are also significantly limiting factors. The missions of these organisations span technical support and advice, service delivery, credit facilitation, capacity building, legal literacy, policy advocacy, representation and more."
      ]
     },
     "execution_count": 14,
     "metadata": {},
     "output_type": "execute_result"
    }
   ],
   "source": [
    "ner_model.predict(osdg_data['test'][0][0])"
   ]
  },
  {
   "cell_type": "code",
   "execution_count": 16,
   "metadata": {},
   "outputs": [],
   "source": [
    "from spacy import displacy"
   ]
  },
  {
   "cell_type": "code",
   "execution_count": 27,
   "metadata": {},
   "outputs": [
    {
     "name": "stdout",
     "output_type": "stream",
     "text": [
      "ORG: The World Resources Institute\n",
      "ORG: World Resources Institute\n"
     ]
    }
   ],
   "source": [
    "ner_model.print_entities(osdg_data['train'][0][14])"
   ]
  }
 ],
 "metadata": {
  "kernelspec": {
   "display_name": "sdg_tool",
   "language": "python",
   "name": "python3"
  },
  "language_info": {
   "codemirror_mode": {
    "name": "ipython",
    "version": 3
   },
   "file_extension": ".py",
   "mimetype": "text/x-python",
   "name": "python",
   "nbconvert_exporter": "python",
   "pygments_lexer": "ipython3",
   "version": "3.11.3"
  },
  "orig_nbformat": 4
 },
 "nbformat": 4,
 "nbformat_minor": 2
}
