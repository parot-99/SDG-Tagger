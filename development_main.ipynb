{
 "cells": [
  {
   "cell_type": "code",
   "execution_count": 1,
   "metadata": {},
   "outputs": [],
   "source": [
    "import json\n",
    "import pandas as pd\n",
    "from development.datasets.OsdgDataset import load_osdg_data\n",
    "from development.datasets.uclmodules_dataset import load_uclmodules_data\n",
    "from development.datasets.videscription_dataset import load_videscription_data\n",
    "from development.datasets.RelxDataset import load_relx_data\n",
    "from development.models.Bert import Bert\n",
    "from development.models.BertMultiLabel import BertMultiLabel\n",
    "from development.models.RobertaNER import RobertaNER\n",
    "from development.train_model import fine_tune_transformer\n",
    "from development.pipelines import full_pipe\n",
    "from development.scrape.RelxScraper import RelxScraper"
   ]
  },
  {
   "cell_type": "code",
   "execution_count": 2,
   "metadata": {},
   "outputs": [],
   "source": [
    "%load_ext autoreload\n",
    "%autoreload 2\n",
    "pd.set_option('max_colwidth', None)"
   ]
  },
  {
   "cell_type": "code",
   "execution_count": 3,
   "metadata": {},
   "outputs": [],
   "source": [
    "with open('config.json', 'r') as file:\n",
    "    CONFIG = json.load(file)\n",
    "    dev_config = CONFIG['development']\n"
   ]
  },
  {
   "cell_type": "code",
   "execution_count": 4,
   "metadata": {},
   "outputs": [],
   "source": [
    "osdg_data = load_osdg_data(\n",
    "    dev_config['osdg_data_path'],\n",
    "    training=False,\n",
    "    filter_agreement=False\n",
    ")"
   ]
  },
  {
   "cell_type": "code",
   "execution_count": 367,
   "metadata": {},
   "outputs": [
    {
     "data": {
      "text/plain": [
       "sdg\n",
       "1     2734\n",
       "2     2457\n",
       "3     2689\n",
       "4     3740\n",
       "5     4338\n",
       "6     2815\n",
       "7     3048\n",
       "8     1509\n",
       "9     2105\n",
       "10    2032\n",
       "11    2277\n",
       "12    1108\n",
       "13    2102\n",
       "14    1141\n",
       "15    2143\n",
       "16    5451\n",
       "Name: text, dtype: int64"
      ]
     },
     "execution_count": 367,
     "metadata": {},
     "output_type": "execute_result"
    }
   ],
   "source": [
    "osdg_data.groupby(['sdg']).count()['text']"
   ]
  },
  {
   "cell_type": "code",
   "execution_count": 15,
   "metadata": {},
   "outputs": [],
   "source": [
    "osdg_data = load_osdg_data(\n",
    "    dev_config['osdg_data_path'],\n",
    "    training=True,\n",
    "    filter_agreement=False\n",
    ")"
   ]
  },
  {
   "cell_type": "code",
   "execution_count": 94,
   "metadata": {},
   "outputs": [],
   "source": [
    "ucl_data = load_uclmodules_data(dev_config['uclmodules_data_path'])"
   ]
  },
  {
   "cell_type": "code",
   "execution_count": 5,
   "metadata": {},
   "outputs": [],
   "source": [
    "videscription_data = load_videscription_data(\n",
    "    dev_config['videscription_data_path']\n",
    ")"
   ]
  },
  {
   "cell_type": "code",
   "execution_count": null,
   "metadata": {},
   "outputs": [],
   "source": [
    "bert = Bert()"
   ]
  },
  {
   "cell_type": "code",
   "execution_count": null,
   "metadata": {},
   "outputs": [],
   "source": [
    "result = fine_tune_transformer(\n",
    "    bert.model,\n",
    "    bert.tokenizer,\n",
    "    bert.tokenizer_args,\n",
    "    data=osdg_data,\n",
    "    dev_config=dev_config\n",
    ")"
   ]
  },
  {
   "cell_type": "code",
   "execution_count": 18,
   "metadata": {},
   "outputs": [],
   "source": [
    "bert = Bert('./development/weights/Bert-5/checkpoint-6384/')"
   ]
  },
  {
   "cell_type": "code",
   "execution_count": 19,
   "metadata": {},
   "outputs": [],
   "source": [
    "cls_report = bert.evaluate(osdg_data['train'])\n",
    "print(cls_report)"
   ]
  },
  {
   "cell_type": "code",
   "execution_count": 6,
   "metadata": {},
   "outputs": [
    {
     "name": "stderr",
     "output_type": "stream",
     "text": [
      "A matching Triton is not available, some optimizations will not be enabled.\n",
      "Error caught was: No module named 'triton'\n"
     ]
    },
    {
     "name": "stdout",
     "output_type": "stream",
     "text": [
      "              precision    recall  f1-score   support\n",
      "\n",
      "           0       0.89      0.93      0.91       410\n",
      "           1       0.92      0.95      0.94       368\n",
      "           2       0.94      0.98      0.96       403\n",
      "           3       0.95      0.96      0.96       561\n",
      "           4       0.96      0.94      0.95       650\n",
      "           5       0.92      0.97      0.94       422\n",
      "           6       0.94      0.93      0.94       457\n",
      "           7       0.82      0.80      0.81       227\n",
      "           8       0.90      0.91      0.91       316\n",
      "           9       0.92      0.78      0.84       305\n",
      "          10       0.94      0.96      0.95       342\n",
      "          11       0.94      0.92      0.93       166\n",
      "          12       0.94      0.96      0.95       316\n",
      "          13       0.97      0.91      0.94       171\n",
      "          14       0.94      0.93      0.93       322\n",
      "          15       0.99      1.00      1.00       817\n",
      "\n",
      "    accuracy                           0.94      6253\n",
      "   macro avg       0.93      0.93      0.93      6253\n",
      "weighted avg       0.94      0.94      0.94      6253\n",
      "\n"
     ]
    }
   ],
   "source": [
    "cls_report = bert.evaluate(osdg_data['valid'])\n",
    "print(cls_report)"
   ]
  },
  {
   "cell_type": "code",
   "execution_count": null,
   "metadata": {},
   "outputs": [],
   "source": [
    "cls_report = bert.evaluate(osdg_data['test'])\n",
    "print(cls_report)"
   ]
  },
  {
   "cell_type": "code",
   "execution_count": 48,
   "metadata": {},
   "outputs": [],
   "source": [
    "ner_model = RobertaNER()"
   ]
  },
  {
   "cell_type": "code",
   "execution_count": 27,
   "metadata": {},
   "outputs": [
    {
     "name": "stdout",
     "output_type": "stream",
     "text": [
      "ORG: The World Resources Institute\n",
      "ORG: World Resources Institute\n"
     ]
    }
   ],
   "source": [
    "ner_model.print_entities(osdg_data['train'][0][14])"
   ]
  },
  {
   "cell_type": "code",
   "execution_count": 76,
   "metadata": {},
   "outputs": [
    {
     "data": {
      "text/html": [
       "<div>\n",
       "<style scoped>\n",
       "    .dataframe tbody tr th:only-of-type {\n",
       "        vertical-align: middle;\n",
       "    }\n",
       "\n",
       "    .dataframe tbody tr th {\n",
       "        vertical-align: top;\n",
       "    }\n",
       "\n",
       "    .dataframe thead th {\n",
       "        text-align: right;\n",
       "    }\n",
       "</style>\n",
       "<table border=\"1\" class=\"dataframe\">\n",
       "  <thead>\n",
       "    <tr style=\"text-align: right;\">\n",
       "      <th></th>\n",
       "      <th>Text</th>\n",
       "      <th>SDG</th>\n",
       "      <th>Entities</th>\n",
       "      <th>Sentiment</th>\n",
       "    </tr>\n",
       "  </thead>\n",
       "  <tbody>\n",
       "    <tr>\n",
       "      <th>0</th>\n",
       "      <td>This is why the Sustainable Development of Protected Areas System of Ethiopia was set up, with support from the Global Environment Fund and UNDP. The project is spearheading a suite of interventions, focusing on the national system in terms of capacity building and training, and integrating the protected area system into mainstream development. Since the initiation of the project in 2008, valuation exercises have found that the main value of protected areas is in the environmental services that they provide to poor rural communities, many of which are food-insecure, protected areas were incorporated into the Ethiopia Poverty Strategy, and the legal boundaries of the protected area system were strengthened by supporting the demarcation and gazettement of four areas through a highly consultative process (UNDP, n.d.).</td>\n",
       "      <td>Climate Action</td>\n",
       "      <td>ORG: the Sustainable Development of Protected Areas System of Ethiopia - ORG: the Global Environment Fund - ORG: UNDP - ORG: UNDP -</td>\n",
       "      <td>NULL</td>\n",
       "    </tr>\n",
       "  </tbody>\n",
       "</table>\n",
       "</div>"
      ],
      "text/plain": [
       "                                                                                                                                                                                                                                                                                                                                                                                                                                                                                                                                                                                                                                                                                                                                                                                                                                                         Text  \\\n",
       "0  This is why the Sustainable Development of Protected Areas System of Ethiopia was set up, with support from the Global Environment Fund and UNDP. The project is spearheading a suite of interventions, focusing on the national system in terms of capacity building and training, and integrating the protected area system into mainstream development. Since the initiation of the project in 2008, valuation exercises have found that the main value of protected areas is in the environmental services that they provide to poor rural communities, many of which are food-insecure, protected areas were incorporated into the Ethiopia Poverty Strategy, and the legal boundaries of the protected area system were strengthened by supporting the demarcation and gazettement of four areas through a highly consultative process (UNDP, n.d.).   \n",
       "\n",
       "              SDG  \\\n",
       "0  Climate Action   \n",
       "\n",
       "                                                                                                                               Entities  \\\n",
       "0  ORG: the Sustainable Development of Protected Areas System of Ethiopia - ORG: the Global Environment Fund - ORG: UNDP - ORG: UNDP -    \n",
       "\n",
       "  Sentiment  \n",
       "0      NULL  "
      ]
     },
     "execution_count": 76,
     "metadata": {},
     "output_type": "execute_result"
    }
   ],
   "source": [
    "df = full_pipe(bert, ner_model, texts=[osdg_data['train'][0][7]])"
   ]
  },
  {
   "cell_type": "code",
   "execution_count": 138,
   "metadata": {},
   "outputs": [],
   "source": [
    "relx_scraper = RelxScraper()\n",
    "relx_scraper.scrape_data(start=0)\n",
    "relx_scraper.save_as_csv('./data/relx_data.csv')"
   ]
  },
  {
   "cell_type": "code",
   "execution_count": 4,
   "metadata": {},
   "outputs": [],
   "source": [
    "relx_training_data = load_relx_data(\n",
    "    data_path=dev_config['relx_data_path'],\n",
    "    training=True\n",
    ")"
   ]
  },
  {
   "cell_type": "code",
   "execution_count": 5,
   "metadata": {},
   "outputs": [],
   "source": [
    "bert_multilabel = BertMultiLabel(\n",
    "    './development/weights/Bert-5/checkpoint-6384/'\n",
    ")"
   ]
  },
  {
   "cell_type": "code",
   "execution_count": 6,
   "metadata": {},
   "outputs": [
    {
     "name": "stderr",
     "output_type": "stream",
     "text": [
      "c:\\Users\\ahmud\\Desktop\\Ahmed\\Projects\\Python Virtual Environments\\text2sdg-env\\Lib\\site-packages\\transformers\\optimization.py:411: FutureWarning: This implementation of AdamW is deprecated and will be removed in a future version. Use the PyTorch implementation torch.optim.AdamW instead, or set `no_deprecation_warning=True` to disable this warning\n",
      "  warnings.warn(\n"
     ]
    },
    {
     "data": {
      "application/vnd.jupyter.widget-view+json": {
       "model_id": "f01cb1819dbb4cae921b386cdfa4e6fa",
       "version_major": 2,
       "version_minor": 0
      },
      "text/plain": [
       "  0%|          | 0/1040 [00:00<?, ?it/s]"
      ]
     },
     "metadata": {},
     "output_type": "display_data"
    },
    {
     "name": "stdout",
     "output_type": "stream",
     "text": [
      "{'loss': 0.7096, 'learning_rate': 5.2e-06, 'epoch': 1.0}\n"
     ]
    },
    {
     "data": {
      "application/vnd.jupyter.widget-view+json": {
       "model_id": "292f660eea65417394877463e8cb67cc",
       "version_major": 2,
       "version_minor": 0
      },
      "text/plain": [
       "  0%|          | 0/12 [00:00<?, ?it/s]"
      ]
     },
     "metadata": {},
     "output_type": "display_data"
    },
    {
     "name": "stdout",
     "output_type": "stream",
     "text": [
      "{'eval_loss': 0.5566602263317773, 'eval_runtime': 10.3519, 'eval_samples_per_second': 17.098, 'eval_steps_per_second': 1.159, 'epoch': 1.0}\n",
      "{'loss': 0.4709, 'learning_rate': 1.04e-05, 'epoch': 2.0}\n"
     ]
    },
    {
     "data": {
      "application/vnd.jupyter.widget-view+json": {
       "model_id": "b5b78c2c34c2461c9a3a1b79b8feba33",
       "version_major": 2,
       "version_minor": 0
      },
      "text/plain": [
       "  0%|          | 0/12 [00:00<?, ?it/s]"
      ]
     },
     "metadata": {},
     "output_type": "display_data"
    },
    {
     "name": "stdout",
     "output_type": "stream",
     "text": [
      "{'eval_loss': 0.38561571981570186, 'eval_runtime': 10.5763, 'eval_samples_per_second': 16.736, 'eval_steps_per_second': 1.135, 'epoch': 2.0}\n",
      "{'loss': 0.3158, 'learning_rate': 1.56e-05, 'epoch': 3.0}\n"
     ]
    },
    {
     "data": {
      "application/vnd.jupyter.widget-view+json": {
       "model_id": "56c3a86dad614589b746e28fef2cc97d",
       "version_major": 2,
       "version_minor": 0
      },
      "text/plain": [
       "  0%|          | 0/12 [00:00<?, ?it/s]"
      ]
     },
     "metadata": {},
     "output_type": "display_data"
    },
    {
     "name": "stdout",
     "output_type": "stream",
     "text": [
      "{'eval_loss': 0.24736081546953206, 'eval_runtime': 10.3459, 'eval_samples_per_second': 17.108, 'eval_steps_per_second': 1.16, 'epoch': 3.0}\n",
      "{'loss': 0.2168, 'learning_rate': 2.08e-05, 'epoch': 4.0}\n"
     ]
    },
    {
     "data": {
      "application/vnd.jupyter.widget-view+json": {
       "model_id": "7fa71ce19d7640e592d952891852b966",
       "version_major": 2,
       "version_minor": 0
      },
      "text/plain": [
       "  0%|          | 0/12 [00:00<?, ?it/s]"
      ]
     },
     "metadata": {},
     "output_type": "display_data"
    },
    {
     "name": "stdout",
     "output_type": "stream",
     "text": [
      "{'eval_loss': 0.20990913641718967, 'eval_runtime': 10.5386, 'eval_samples_per_second': 16.795, 'eval_steps_per_second': 1.139, 'epoch': 4.0}\n",
      "{'loss': 0.1782, 'learning_rate': 2.6000000000000002e-05, 'epoch': 5.0}\n"
     ]
    },
    {
     "data": {
      "application/vnd.jupyter.widget-view+json": {
       "model_id": "579bca06445543219df2780efbcb099f",
       "version_major": 2,
       "version_minor": 0
      },
      "text/plain": [
       "  0%|          | 0/12 [00:00<?, ?it/s]"
      ]
     },
     "metadata": {},
     "output_type": "display_data"
    },
    {
     "name": "stdout",
     "output_type": "stream",
     "text": [
      "{'eval_loss': 0.19769713115205234, 'eval_runtime': 10.2418, 'eval_samples_per_second': 17.282, 'eval_steps_per_second': 1.172, 'epoch': 5.0}\n",
      "{'loss': 0.1534, 'learning_rate': 3.12e-05, 'epoch': 6.0}\n"
     ]
    },
    {
     "data": {
      "application/vnd.jupyter.widget-view+json": {
       "model_id": "ac32ee3b8f62439ba969f168725ed080",
       "version_major": 2,
       "version_minor": 0
      },
      "text/plain": [
       "  0%|          | 0/12 [00:00<?, ?it/s]"
      ]
     },
     "metadata": {},
     "output_type": "display_data"
    },
    {
     "name": "stdout",
     "output_type": "stream",
     "text": [
      "{'eval_loss': 0.19583137944380333, 'eval_runtime': 10.68, 'eval_samples_per_second': 16.573, 'eval_steps_per_second': 1.124, 'epoch': 6.0}\n",
      "{'loss': 0.1311, 'learning_rate': 3.6400000000000004e-05, 'epoch': 7.0}\n"
     ]
    },
    {
     "data": {
      "application/vnd.jupyter.widget-view+json": {
       "model_id": "1f811349b69742bf84cecce85250a963",
       "version_major": 2,
       "version_minor": 0
      },
      "text/plain": [
       "  0%|          | 0/12 [00:00<?, ?it/s]"
      ]
     },
     "metadata": {},
     "output_type": "display_data"
    },
    {
     "name": "stdout",
     "output_type": "stream",
     "text": [
      "{'eval_loss': 0.19418140165465042, 'eval_runtime': 10.7401, 'eval_samples_per_second': 16.48, 'eval_steps_per_second': 1.117, 'epoch': 7.0}\n",
      "{'loss': 0.1164, 'learning_rate': 4.16e-05, 'epoch': 8.0}\n"
     ]
    },
    {
     "data": {
      "application/vnd.jupyter.widget-view+json": {
       "model_id": "adf699da7fd046a9b6b3dcbdb32e8af8",
       "version_major": 2,
       "version_minor": 0
      },
      "text/plain": [
       "  0%|          | 0/12 [00:00<?, ?it/s]"
      ]
     },
     "metadata": {},
     "output_type": "display_data"
    },
    {
     "name": "stdout",
     "output_type": "stream",
     "text": [
      "{'eval_loss': 0.19473162427852322, 'eval_runtime': 11.5217, 'eval_samples_per_second': 15.362, 'eval_steps_per_second': 1.042, 'epoch': 8.0}\n",
      "{'loss': 0.1019, 'learning_rate': 4.6800000000000006e-05, 'epoch': 9.0}\n"
     ]
    },
    {
     "data": {
      "application/vnd.jupyter.widget-view+json": {
       "model_id": "6597585682cb4f14b837b6d5e23d0b86",
       "version_major": 2,
       "version_minor": 0
      },
      "text/plain": [
       "  0%|          | 0/12 [00:00<?, ?it/s]"
      ]
     },
     "metadata": {},
     "output_type": "display_data"
    },
    {
     "name": "stdout",
     "output_type": "stream",
     "text": [
      "{'eval_loss': 0.19021321644743946, 'eval_runtime': 12.0298, 'eval_samples_per_second': 14.713, 'eval_steps_per_second': 0.998, 'epoch': 9.0}\n",
      "{'loss': 0.0895, 'learning_rate': 4.814814814814815e-05, 'epoch': 10.0}\n"
     ]
    },
    {
     "data": {
      "application/vnd.jupyter.widget-view+json": {
       "model_id": "3e082d2c1d494871a20be4b4aa99017e",
       "version_major": 2,
       "version_minor": 0
      },
      "text/plain": [
       "  0%|          | 0/12 [00:00<?, ?it/s]"
      ]
     },
     "metadata": {},
     "output_type": "display_data"
    },
    {
     "name": "stdout",
     "output_type": "stream",
     "text": [
      "{'eval_loss': 0.20094610330683907, 'eval_runtime': 11.4055, 'eval_samples_per_second': 15.519, 'eval_steps_per_second': 1.052, 'epoch': 10.0}\n",
      "{'loss': 0.0763, 'learning_rate': 4.3333333333333334e-05, 'epoch': 11.0}\n"
     ]
    },
    {
     "data": {
      "application/vnd.jupyter.widget-view+json": {
       "model_id": "11652c42f09342fdbb91ee0b0e82fe98",
       "version_major": 2,
       "version_minor": 0
      },
      "text/plain": [
       "  0%|          | 0/12 [00:00<?, ?it/s]"
      ]
     },
     "metadata": {},
     "output_type": "display_data"
    },
    {
     "name": "stdout",
     "output_type": "stream",
     "text": [
      "{'eval_loss': 0.19925854332582454, 'eval_runtime': 11.9099, 'eval_samples_per_second': 14.862, 'eval_steps_per_second': 1.008, 'epoch': 11.0}\n",
      "{'loss': 0.0634, 'learning_rate': 3.851851851851852e-05, 'epoch': 12.0}\n"
     ]
    },
    {
     "data": {
      "application/vnd.jupyter.widget-view+json": {
       "model_id": "32293b9c84a04087bffb98ae2901bd87",
       "version_major": 2,
       "version_minor": 0
      },
      "text/plain": [
       "  0%|          | 0/12 [00:00<?, ?it/s]"
      ]
     },
     "metadata": {},
     "output_type": "display_data"
    },
    {
     "name": "stdout",
     "output_type": "stream",
     "text": [
      "{'eval_loss': 0.20558025992731876, 'eval_runtime': 10.8227, 'eval_samples_per_second': 16.354, 'eval_steps_per_second': 1.109, 'epoch': 12.0}\n",
      "{'loss': 0.0552, 'learning_rate': 3.3703703703703706e-05, 'epoch': 13.0}\n"
     ]
    },
    {
     "data": {
      "application/vnd.jupyter.widget-view+json": {
       "model_id": "429a82a72d3841938bb0e2d16995ea2c",
       "version_major": 2,
       "version_minor": 0
      },
      "text/plain": [
       "  0%|          | 0/12 [00:00<?, ?it/s]"
      ]
     },
     "metadata": {},
     "output_type": "display_data"
    },
    {
     "name": "stdout",
     "output_type": "stream",
     "text": [
      "{'eval_loss': 0.20942077404168047, 'eval_runtime': 10.919, 'eval_samples_per_second': 16.21, 'eval_steps_per_second': 1.099, 'epoch': 13.0}\n",
      "{'loss': 0.0475, 'learning_rate': 2.8888888888888888e-05, 'epoch': 14.0}\n"
     ]
    },
    {
     "data": {
      "application/vnd.jupyter.widget-view+json": {
       "model_id": "a40bc58682ac49b1b475e8e62ca00e78",
       "version_major": 2,
       "version_minor": 0
      },
      "text/plain": [
       "  0%|          | 0/12 [00:00<?, ?it/s]"
      ]
     },
     "metadata": {},
     "output_type": "display_data"
    },
    {
     "name": "stdout",
     "output_type": "stream",
     "text": [
      "{'eval_loss': 0.1962740024392706, 'eval_runtime': 11.0443, 'eval_samples_per_second': 16.026, 'eval_steps_per_second': 1.087, 'epoch': 14.0}\n",
      "{'loss': 0.0417, 'learning_rate': 2.4074074074074074e-05, 'epoch': 15.0}\n"
     ]
    },
    {
     "data": {
      "application/vnd.jupyter.widget-view+json": {
       "model_id": "2943ad5d2e7a4934b900a0882968342f",
       "version_major": 2,
       "version_minor": 0
      },
      "text/plain": [
       "  0%|          | 0/12 [00:00<?, ?it/s]"
      ]
     },
     "metadata": {},
     "output_type": "display_data"
    },
    {
     "name": "stdout",
     "output_type": "stream",
     "text": [
      "{'eval_loss': 0.19395701286341374, 'eval_runtime': 10.9303, 'eval_samples_per_second': 16.193, 'eval_steps_per_second': 1.098, 'epoch': 15.0}\n",
      "{'loss': 0.0368, 'learning_rate': 1.925925925925926e-05, 'epoch': 16.0}\n"
     ]
    },
    {
     "data": {
      "application/vnd.jupyter.widget-view+json": {
       "model_id": "e7982d8c88f54d3bae13c485e767ba57",
       "version_major": 2,
       "version_minor": 0
      },
      "text/plain": [
       "  0%|          | 0/12 [00:00<?, ?it/s]"
      ]
     },
     "metadata": {},
     "output_type": "display_data"
    },
    {
     "name": "stdout",
     "output_type": "stream",
     "text": [
      "{'eval_loss': 0.20125444023630482, 'eval_runtime': 11.0403, 'eval_samples_per_second': 16.032, 'eval_steps_per_second': 1.087, 'epoch': 16.0}\n",
      "{'loss': 0.0339, 'learning_rate': 1.4444444444444444e-05, 'epoch': 17.0}\n"
     ]
    },
    {
     "data": {
      "application/vnd.jupyter.widget-view+json": {
       "model_id": "8e0c5a4d26d5487c9e332c50ff4d5669",
       "version_major": 2,
       "version_minor": 0
      },
      "text/plain": [
       "  0%|          | 0/12 [00:00<?, ?it/s]"
      ]
     },
     "metadata": {},
     "output_type": "display_data"
    },
    {
     "name": "stdout",
     "output_type": "stream",
     "text": [
      "{'eval_loss': 0.19909817266995616, 'eval_runtime': 10.9534, 'eval_samples_per_second': 16.159, 'eval_steps_per_second': 1.096, 'epoch': 17.0}\n",
      "{'loss': 0.0322, 'learning_rate': 9.62962962962963e-06, 'epoch': 18.0}\n"
     ]
    },
    {
     "data": {
      "application/vnd.jupyter.widget-view+json": {
       "model_id": "c8e4d76eb2a64c839d5ce0c71e2500f7",
       "version_major": 2,
       "version_minor": 0
      },
      "text/plain": [
       "  0%|          | 0/12 [00:00<?, ?it/s]"
      ]
     },
     "metadata": {},
     "output_type": "display_data"
    },
    {
     "name": "stdout",
     "output_type": "stream",
     "text": [
      "{'eval_loss': 0.20225631147367992, 'eval_runtime': 11.109, 'eval_samples_per_second': 15.933, 'eval_steps_per_second': 1.08, 'epoch': 18.0}\n",
      "{'loss': 0.0301, 'learning_rate': 4.814814814814815e-06, 'epoch': 19.0}\n"
     ]
    },
    {
     "data": {
      "application/vnd.jupyter.widget-view+json": {
       "model_id": "c7504caea4ed4b53b8a5eeca0fde1cf9",
       "version_major": 2,
       "version_minor": 0
      },
      "text/plain": [
       "  0%|          | 0/12 [00:00<?, ?it/s]"
      ]
     },
     "metadata": {},
     "output_type": "display_data"
    },
    {
     "name": "stdout",
     "output_type": "stream",
     "text": [
      "{'eval_loss': 0.20340080154446336, 'eval_runtime': 12.1752, 'eval_samples_per_second': 14.538, 'eval_steps_per_second': 0.986, 'epoch': 19.0}\n",
      "{'loss': 0.0296, 'learning_rate': 0.0, 'epoch': 20.0}\n"
     ]
    },
    {
     "data": {
      "application/vnd.jupyter.widget-view+json": {
       "model_id": "682db60496164cc6a54e13fe6fca70e7",
       "version_major": 2,
       "version_minor": 0
      },
      "text/plain": [
       "  0%|          | 0/12 [00:00<?, ?it/s]"
      ]
     },
     "metadata": {},
     "output_type": "display_data"
    },
    {
     "name": "stdout",
     "output_type": "stream",
     "text": [
      "{'eval_loss': 0.20372545840140355, 'eval_runtime': 11.6295, 'eval_samples_per_second': 15.22, 'eval_steps_per_second': 1.032, 'epoch': 20.0}\n",
      "{'train_runtime': 1251.0258, 'train_samples_per_second': 13.189, 'train_steps_per_second': 0.831, 'train_loss': 0.1465141924527975, 'epoch': 20.0}\n"
     ]
    }
   ],
   "source": [
    "results = fine_tune_transformer(\n",
    "    bert_multilabel.model,\n",
    "    bert_multilabel.tokenizer,\n",
    "    bert_multilabel.tokenizer_args,\n",
    "    data=relx_training_data,\n",
    "    dataset='relx',\n",
    "    dev_config=dev_config\n",
    ")"
   ]
  },
  {
   "cell_type": "code",
   "execution_count": 12,
   "metadata": {},
   "outputs": [],
   "source": [
    "bert_multilabel = BertMultiLabel(\n",
    "    './development/weights/Bert-Multilabel-2/checkpoint-780/'\n",
    ")\n",
    "bert_multilabel.to_gpu()"
   ]
  },
  {
   "cell_type": "code",
   "execution_count": 14,
   "metadata": {},
   "outputs": [
    {
     "name": "stdout",
     "output_type": "stream",
     "text": [
      "              precision    recall  f1-score   support\n",
      "\n",
      "           0       1.00      0.92      0.96        13\n",
      "           1       1.00      0.97      0.99        73\n",
      "           2       1.00      0.99      1.00       503\n",
      "           3       1.00      1.00      1.00        18\n",
      "           4       1.00      1.00      1.00        46\n",
      "           5       1.00      0.99      0.99        92\n",
      "           6       1.00      0.97      0.99        39\n",
      "           7       1.00      0.95      0.97        19\n",
      "           8       1.00      0.94      0.97        49\n",
      "           9       1.00      0.99      1.00       157\n",
      "          10       0.99      1.00      0.99        88\n",
      "          11       1.00      0.95      0.97        56\n",
      "          12       1.00      0.99      0.99       202\n",
      "          13       0.98      0.96      0.97        51\n",
      "          14       1.00      0.99      0.99        72\n",
      "          15       1.00      0.88      0.93        24\n",
      "\n",
      "   micro avg       1.00      0.98      0.99      1502\n",
      "   macro avg       1.00      0.97      0.98      1502\n",
      "weighted avg       1.00      0.98      0.99      1502\n",
      " samples avg       1.00      0.99      0.99      1502\n",
      "\n"
     ]
    }
   ],
   "source": [
    "cls_report = bert_multilabel.evaluate(relx_training_data['train'])\n",
    "print(cls_report)"
   ]
  },
  {
   "cell_type": "code",
   "execution_count": 13,
   "metadata": {},
   "outputs": [
    {
     "name": "stdout",
     "output_type": "stream",
     "text": [
      "              precision    recall  f1-score   support\n",
      "\n",
      "           0       1.00      0.00      0.00         1\n",
      "           1       0.64      0.60      0.62        15\n",
      "           2       0.90      0.86      0.88       116\n",
      "           3       0.67      0.25      0.36         8\n",
      "           4       1.00      0.60      0.75        15\n",
      "           5       0.70      0.80      0.74        20\n",
      "           6       0.30      0.50      0.37         6\n",
      "           7       1.00      0.00      0.00         4\n",
      "           8       0.40      0.17      0.24        12\n",
      "           9       0.59      0.34      0.43        29\n",
      "          10       0.92      0.57      0.71        21\n",
      "          11       0.67      0.29      0.40        14\n",
      "          12       0.87      0.66      0.75        50\n",
      "          13       0.71      0.71      0.71         7\n",
      "          14       0.67      0.59      0.62        17\n",
      "          15       1.00      0.40      0.57         5\n",
      "\n",
      "   micro avg       0.79      0.64      0.71       340\n",
      "   macro avg       0.75      0.46      0.51       340\n",
      "weighted avg       0.80      0.64      0.69       340\n",
      " samples avg       0.84      0.70      0.72       340\n",
      "\n"
     ]
    }
   ],
   "source": [
    "cls_report = bert_multilabel.evaluate(relx_training_data['valid'])\n",
    "print(cls_report)"
   ]
  },
  {
   "cell_type": "code",
   "execution_count": 11,
   "metadata": {},
   "outputs": [
    {
     "name": "stdout",
     "output_type": "stream",
     "text": [
      "              precision    recall  f1-score   support\n",
      "\n",
      "           0       1.00      0.00      0.00         2\n",
      "           1       0.69      0.69      0.69        16\n",
      "           2       0.97      0.86      0.91       122\n",
      "           3       1.00      0.00      0.00         8\n",
      "           4       0.67      0.55      0.60        11\n",
      "           5       0.87      0.87      0.87        15\n",
      "           6       1.00      0.64      0.78        14\n",
      "           7       1.00      0.00      0.00         3\n",
      "           8       0.17      0.33      0.22         6\n",
      "           9       0.77      0.62      0.69        32\n",
      "          10       0.54      0.41      0.47        17\n",
      "          11       0.54      0.54      0.54        13\n",
      "          12       0.86      0.63      0.73        51\n",
      "          13       0.90      0.82      0.86        11\n",
      "          14       0.50      0.54      0.52        13\n",
      "          15       1.00      0.10      0.18        10\n",
      "\n",
      "   micro avg       0.81      0.67      0.73       344\n",
      "   macro avg       0.78      0.47      0.50       344\n",
      "weighted avg       0.84      0.67      0.72       344\n",
      " samples avg       0.86      0.75      0.77       344\n",
      "\n"
     ]
    }
   ],
   "source": [
    "cls_report = bert_multilabel.evaluate(relx_training_data['test'])\n",
    "print(cls_report)"
   ]
  },
  {
   "cell_type": "code",
   "execution_count": 16,
   "metadata": {},
   "outputs": [
    {
     "name": "stderr",
     "output_type": "stream",
     "text": [
      "A matching Triton is not available, some optimizations will not be enabled.\n",
      "Error caught was: No module named 'triton'\n"
     ]
    },
    {
     "name": "stdout",
     "output_type": "stream",
     "text": [
      "              precision    recall  f1-score   support\n",
      "\n",
      "           0       0.94      0.48      0.63       410\n",
      "           1       0.90      0.81      0.85       369\n",
      "           2       0.54      0.95      0.69       404\n",
      "           3       0.87      0.88      0.87       561\n",
      "           4       0.93      0.79      0.85       651\n",
      "           5       0.89      0.86      0.87       423\n",
      "           6       0.94      0.78      0.86       457\n",
      "           7       0.72      0.60      0.65       226\n",
      "           8       0.81      0.80      0.80       316\n",
      "           9       0.39      0.86      0.53       305\n",
      "          10       0.72      0.91      0.80       341\n",
      "          11       0.89      0.56      0.69       166\n",
      "          12       0.66      0.88      0.76       315\n",
      "          13       0.93      0.87      0.90       171\n",
      "          14       0.90      0.83      0.86       321\n",
      "          15       1.00      0.62      0.77       818\n",
      "\n",
      "    accuracy                           0.78      6254\n",
      "   macro avg       0.81      0.78      0.77      6254\n",
      "weighted avg       0.84      0.78      0.78      6254\n",
      "\n"
     ]
    }
   ],
   "source": [
    "cls_report = bert_multilabel.evaluate_single_label(\n",
    "    osdg_data['test'],\n",
    "    mode='exact_match'\n",
    ")\n",
    "print(cls_report)"
   ]
  },
  {
   "cell_type": "code",
   "execution_count": 17,
   "metadata": {},
   "outputs": [
    {
     "data": {
      "text/plain": [
       "0.8535337384074193"
      ]
     },
     "execution_count": 17,
     "metadata": {},
     "output_type": "execute_result"
    }
   ],
   "source": [
    "accuracy = bert_multilabel.evaluate_single_label(\n",
    "    osdg_data['test'],\n",
    "    mode='included'\n",
    ")\n",
    "accuracy"
   ]
  },
  {
   "cell_type": "code",
   "execution_count": 15,
   "metadata": {},
   "outputs": [],
   "source": [
    "ucl_data = load_uclmodules_data(\n",
    "    dev_config['uclmodules_data_path'],\n",
    "    only_labled=True,\n",
    "    evaluation=True\n",
    ")"
   ]
  },
  {
   "cell_type": "code",
   "execution_count": 17,
   "metadata": {},
   "outputs": [
    {
     "name": "stdout",
     "output_type": "stream",
     "text": [
      "              precision    recall  f1-score   support\n",
      "\n",
      "           0       1.00      0.08      0.15        87\n",
      "           1       0.38      0.50      0.43        12\n",
      "           2       0.71      0.99      0.83      1015\n",
      "           3       0.17      0.72      0.28       258\n",
      "           4       0.56      0.62      0.59       128\n",
      "           5       0.34      0.78      0.47        18\n",
      "           6       0.76      0.51      0.61        76\n",
      "           7       0.63      0.37      0.47       339\n",
      "           8       0.69      0.42      0.52       588\n",
      "           9       0.07      0.74      0.13        53\n",
      "          10       0.60      0.47      0.52       506\n",
      "          11       0.10      0.25      0.14        24\n",
      "          12       0.13      0.96      0.23        68\n",
      "          13       0.53      0.40      0.46        20\n",
      "          14       0.46      0.61      0.52        18\n",
      "          15       0.70      0.57      0.63       667\n",
      "\n",
      "   micro avg       0.46      0.63      0.53      3877\n",
      "   macro avg       0.49      0.56      0.44      3877\n",
      "weighted avg       0.62      0.63      0.58      3877\n",
      " samples avg       0.56      0.66      0.56      3877\n",
      "\n"
     ]
    }
   ],
   "source": [
    "cls_report = bert_multilabel.evaluate(ucl_data)\n",
    "print(cls_report)"
   ]
  },
  {
   "cell_type": "code",
   "execution_count": 118,
   "metadata": {},
   "outputs": [
    {
     "data": {
      "text/plain": [
       "'Advanced Field Techniques (ARCL0032) \\n This module is aimed to develop students knowledge of field techniques learnt during their first year and vacation fieldwork. Topics will include research designs, aerial photography, regional sampling, geophysics, site formation and transformation, digital site data recording, recording systems and post-excavation analysis.  A number of sessions are taught by visiting speakers as well as a number of IoA staff.\\nFurther information is available here https://www.ucl.ac.uk/archaeology/study/undergraduate/courses/advanced-field-techniques\\n '"
      ]
     },
     "execution_count": 118,
     "metadata": {},
     "output_type": "execute_result"
    }
   ],
   "source": [
    "ucl_data[0][50]"
   ]
  },
  {
   "cell_type": "code",
   "execution_count": 117,
   "metadata": {},
   "outputs": [
    {
     "data": {
      "text/plain": [
       "[8]"
      ]
     },
     "execution_count": 117,
     "metadata": {},
     "output_type": "execute_result"
    }
   ],
   "source": [
    "ucl_data[1][50]"
   ]
  },
  {
   "cell_type": "markdown",
   "metadata": {},
   "source": [
    "'Advanced Field Techniques (ARCL0032) \\n This module is aimed to develop students knowledge of field techniques learnt during their first year and vacation fieldwork. Topics will include research designs, aerial photography, regional sampling, geophysics, site formation and transformation, digital site data recording, recording systems and post-excavation analysis.  A number of sessions are taught by visiting speakers as well as a number of IoA staff.\\nFurther information is available here https://www.ucl.ac.uk/archaeology/study/undergraduate/courses/advanced-field-techniques\\n '\n"
   ]
  },
  {
   "cell_type": "code",
   "execution_count": 124,
   "metadata": {},
   "outputs": [
    {
     "data": {
      "text/plain": [
       "[[]]"
      ]
     },
     "execution_count": 124,
     "metadata": {},
     "output_type": "execute_result"
    }
   ],
   "source": [
    "predictions = bert_multilabel.predict(ucl_data[0][50])\n",
    "predictions = bert_multilabel.parse_predictions(predictions, top_k=16, threshold=0.7)\n",
    "predictions"
   ]
  }
 ],
 "metadata": {
  "kernelspec": {
   "display_name": "sdg_tool",
   "language": "python",
   "name": "python3"
  },
  "language_info": {
   "codemirror_mode": {
    "name": "ipython",
    "version": 3
   },
   "file_extension": ".py",
   "mimetype": "text/x-python",
   "name": "python",
   "nbconvert_exporter": "python",
   "pygments_lexer": "ipython3",
   "version": "3.11.3"
  },
  "orig_nbformat": 4
 },
 "nbformat": 4,
 "nbformat_minor": 2
}
